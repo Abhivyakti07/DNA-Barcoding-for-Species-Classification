{
  "nbformat": 4,
  "nbformat_minor": 0,
  "metadata": {
    "colab": {
      "provenance": []
    },
    "kernelspec": {
      "name": "python3",
      "display_name": "Python 3"
    },
    "language_info": {
      "name": "python"
    }
  },
  "cells": [
    {
      "cell_type": "code",
      "source": [
        "from sklearn.ensemble import RandomForestClassifier\n",
        "import pandas as pd\n",
        "import datetime\n",
        "import math\n",
        "from sklearn.metrics import precision_score, recall_score\n",
        "from Utils import Utils\n",
        "import pickle\n",
        "import numpy as np\n",
        "\n",
        "class RandomForest(object):\n",
        "\tdef __init__(self, X_tr, y_tr, X_test, y_test, number_of_trees=500, model_filename = 'RandomForest.sav'):\n",
        "\t\tself.X_tr, self.y_tr, self.X_test, self.y_test = X_tr, y_tr, X_test, y_test\n",
        "\t\tself.model_filename = \"../model/\" + model_filename\n",
        "\t\tself.model = None\n",
        "\n",
        "\tdef trainAndSaveModel(self):\n",
        "\t\trf = RandomForestClassifier(n_estimators = 150)\n",
        "\t\tself.model = rf.fit(\n",
        "\t\t\t\t\tself.X_tr,\n",
        "\t\t\t\t\tself.y_tr.values.ravel()\n",
        "\t\t\t\t)\n",
        "\t\tpickle.dump(self.model, open(Utils.getAbsFilePath(self.model_filename), 'wb'))\t#Store Model to File\n",
        "\t\ty_pred = self.model.predict(self.X_test)\n",
        "\t\tprecision = precision_score(self.y_test, y_pred, pos_label='positive', average='micro')\n",
        "\t\trecall = recall_score(self.y_test, y_pred, pos_label='positive', average='micro')\n",
        "\t\ttry:\n",
        "\t\t\taccuracy = round((y_pred==self.y_test['label']).sum()/len(y_pred), 3)\n",
        "\t\t\tprint('Precision: {} / Recall: {} / Accuracy: {}'.format(\n",
        "\t\t\t\t\tround(precision, 3), round(recall, 3), accuracy))\n",
        "\t\texcept Exception as e:\n",
        "\t\t\tprint(precision, recall, e)\n",
        "\n",
        "\tdef restoreModel(self):\n",
        "\t\tself.model = pickle.load(open(Utils.getAbsFilePath(self.model_filename), 'rb'))\n",
        "\t\tresult = self.model.score(self.X_test, self.y_test)\n",
        "\t\tprint(result)\n",
        "\t\tprint(\"RF-Model Loaded Successfully\")\n",
        "\n",
        "\tdef savePrediction(self, X_pred, embedding = \"sbert\", output_file_name = str(math.ceil(datetime.datetime.now().timestamp()))+\"_submission.csv\"):\n",
        "\t\ty_pred = self.model.predict(X_pred)\n",
        "\t\tdf = pd.DataFrame({'id':list(X_pred.index),'labels': list(y_pred)})\n",
        "\t\tdf = df.set_index(['id'])\n",
        "\t\tdf.to_csv(Utils.getAbsFilePath(output_file_name))\n",
        "\t\treturn df"
      ],
      "metadata": {
        "id": "jndJN3Pb6yfF"
      },
      "execution_count": null,
      "outputs": []
    }
  ]
}